{
 "cells": [
  {
   "cell_type": "markdown",
   "metadata": {},
   "source": [
    "# 1.1 Import Data\n",
    "The dataset for this analysis can be found on kaggle here and the original dataset with descriptions is found here.\n",
    "\n",
    "Per the original authors request, their information is as follows:\n",
    "1. Hungarian Institute of Cardiology. Budapest: Andras Janosi\n",
    "M.D. 2. University Hospital, Zurich, Switzerland: William Steinbrunn\n",
    "M.D. 3. University Hospital, Basel, Switzerland: Matthias Pfisterer\n",
    "M.D. 4. V.A. Medical Center, Long Beach and Cleveland Clinic Foundation: Robert Detrano, M.D., Ph.D.\n",
    "\n",
    "This dataset contains only the patients from Cleveland."
   ]
  },
  {
   "cell_type": "markdown",
   "metadata": {},
   "source": [
    "'Heart disease describes a range of conditions that affect your heart. Diseases under the heart disease umbrella include blood vessel diseases, such as coronary artery disease; heart rhythm problems (arrhythmias); and heart defects you're born with (congenital heart defects), among others.\n",
    "\n",
    "The term \"heart disease\" is often used interchangeably with the term \"cardiovascular disease.\" Cardiovascular disease generally refers to conditions that involve narrowed or blocked blood vessels that can lead to a heart attack, chest pain (angina) or stroke. Other heart conditions, such as those that affect your heart's muscle, valves or rhythm, also are considered forms of heart disease.'"
   ]
  },
  {
   "cell_type": "markdown",
   "metadata": {},
   "source": [
    "Heart disease involves a reduction in blood flow to the heart muscles due to blockages in the arteries of the heart, called atherosclerosis, which are commonly caused by a build-up of plaque (also known as atheroma). The main symptoms are chest pain (angina), heart attacks and heart failure, though no symptoms is also common. The risk of having atherosclerosis is increased if you smoke, regularly drink excessive amounts of alcohol and have underlying conditions such as high blood pressure, high cholesterol or diabetes.\n",
    "\n",
    "Having a machine learning model that can predict if a patient has or does not have heart disease could potentially save time in diagnosing the patient and may reduce the likelihood of a misclassification when used in conjunction with the doctor. This analysis will look at six different machine learning techniques."
   ]
  },
  {
   "cell_type": "markdown",
   "metadata": {},
   "source": [
    "\n",
    "\n",
    "Complete attribute documentation:\n",
    "\n",
    "1. age: age in years\n",
    "\n",
    "2. sex: sex (1 = male; 0 = female)\n",
    "\n",
    "3. cp: chest pain type\n",
    "\n",
    "-- Value 1: typical angina (Typical (classic) angina chest pain consists of\n",
    "(a) Substernal chest pain or discomfort that is \n",
    "(b) Provoked by exertion or emotional stress and \n",
    "(c) relieved by rest or nitroglycerine (or both).\n",
    "\n",
    "-- Value 2: atypical angina (Atypical (probable) angina chest pain applies when 2 out of 3 criteria of classic angina are present.)\n",
    "\n",
    "-- Value 3: non-anginal pain\n",
    "\n",
    "-- Value 4: asymptomatic\n",
    "\n",
    "4. trestbps: resting blood pressure (in mm Hg on admission to the hospital)\n",
    "\n",
    "5. chol: serum cholestoral in mg/dl\n",
    "\n",
    "6. fbs: (fasting blood sugar > 120 mg/dl) (1 = true; 0 = false)\n",
    "\n",
    "7. restecg: resting electrocardiographic results\n",
    "-- Value 0: normal\n",
    "-- Value 1: having ST-T wave abnormality (T wave inversions and/or ST elevation or depression of > 0.05 mV)\n",
    "-- Value 2: showing probable or definite left ventricular hypertrophy by Estes' criteria\n",
    "\n",
    "8. thalach: maximum heart rate achieved\n",
    "\n",
    "9. exang: exercise induced angina (1 = yes; 0 = no)\n",
    "\n",
    "10. oldpeak = ST depression induced by exercise relative to rest\n",
    "\n",
    "11. slope: the slope of the peak exercise ST segment\n",
    "-- Value 1: upsloping\n",
    "-- Value 2: flat\n",
    "-- Value 3: downsloping\n",
    "12. ca: number of major vessels (0-3) colored by flourosopy\n",
    "\n",
    "13. thal: 3 = normal; 6 = fixed defect; 7 = reversable defect\n",
    "\n",
    "14. num: diagnosis of heart disease (angiographic disease status)\n",
    "\n",
    "-- Value 0: < 50% diameter narrowing \n",
    "\n",
    "-- Value 1: > 50% diameter narrowing\n",
    "(in any major blood vessel)\n",
    "\n"
   ]
  },
  {
   "cell_type": "markdown",
   "metadata": {},
   "source": [
    "More information on the dataset here:\n",
    "\n",
    "<a href=\"https://archive.ics.uci.edu/ml/datasets/Heart+Disease\">More info</a>"
   ]
  },
  {
   "cell_type": "markdown",
   "metadata": {},
   "source": [
    "The authors of the databases have requested:\n",
    "\n",
    "      ...that any publications resulting from the use of the data include the \n",
    "      names of the principal investigator responsible for the data collection\n",
    "      at each institution.  They would be:\n",
    "\n",
    "       1. Hungarian Institute of Cardiology. Budapest: Andras Janosi, M.D.\n",
    "       2. University Hospital, Zurich, Switzerland: William Steinbrunn, M.D.\n",
    "       3. University Hospital, Basel, Switzerland: Matthias Pfisterer, M.D.\n",
    "       4. V.A. Medical Center, Long Beach and Cleveland Clinic Foundation:\n",
    "\t  Robert Detrano, M.D., Ph.D.\n"
   ]
  },
  {
   "cell_type": "markdown",
   "metadata": {},
   "source": [
    "# Import data"
   ]
  },
  {
   "cell_type": "code",
   "execution_count": 5,
   "metadata": {},
   "outputs": [
    {
     "name": "stderr",
     "output_type": "stream",
     "text": [
      "ERROR:root:File `'clf_functions.ipynb.py'` not found.\n"
     ]
    }
   ],
   "source": [
    "### Import necessary libraries & packages ###\n",
    "import pandas as pd\n",
    "import numpy as np\n",
    "\n",
    "import matplotlib.pyplot as plt\n",
    "import seaborn as sns\n",
    "%matplotlib inline\n",
    "plt.style.use('seaborn')\n",
    "\n",
    "import warnings\n",
    "warnings.filterwarnings('ignore')\n",
    "\n",
    "from statsmodels.formula.api import ols\n",
    "import statsmodels.api as sm\n",
    "import scipy.stats as stats\n",
    "from sklearn.linear_model import LogisticRegression\n",
    "from sklearn.model_selection import train_test_split,cross_val_score, GridSearchCV \n",
    "\n",
    "from sklearn.tree import DecisionTreeClassifier\n",
    "from sklearn.ensemble import BaggingClassifier, RandomForestClassifier\n",
    "from sklearn.neighbors import KNeighborsClassifier\n",
    "from sklearn.svm import LinearSVC\n",
    "import xgboost as xgb\n",
    "\n",
    "from sklearn.pipeline import Pipeline\n",
    "from sklearn.preprocessing import MinMaxScaler, StandardScaler\n",
    "\n",
    "\n",
    "from sklearn.metrics import roc_curve, roc_auc_score, accuracy_score, recall_score, f1_score, confusion_matrix, classification_report\n",
    "\n",
    "# Our custom functions #\n",
    "%run clf_functions.ipynb"
   ]
  },
  {
   "cell_type": "code",
   "execution_count": null,
   "metadata": {},
   "outputs": [],
   "source": [
    "data_heart=pd.read_csv('heart.csv')\n",
    "data_heart.columns"
   ]
  },
  {
   "cell_type": "code",
   "execution_count": null,
   "metadata": {},
   "outputs": [],
   "source": [
    "data=pd.read_csv('processed.cleveland.csv')\n",
    "data.head()"
   ]
  },
  {
   "cell_type": "code",
   "execution_count": null,
   "metadata": {},
   "outputs": [],
   "source": [
    "#Get the column names from heart.csv\n",
    "data.columns=['age', 'sex', 'cp', 'trestbps', 'chol', 'fbs', 'restecg', 'thalach',\n",
    "       'exang', 'oldpeak', 'slope', 'ca', 'thal', 'target']\n",
    "data.head()"
   ]
  },
  {
   "cell_type": "code",
   "execution_count": null,
   "metadata": {},
   "outputs": [],
   "source": [
    "data.info()"
   ]
  },
  {
   "cell_type": "markdown",
   "metadata": {},
   "source": [
    "Our target column indicatets if the person is sick or not.\n",
    "\n",
    "-- Value 0: < 50% diameter narrowing - It means that there is less than 50% narrowing of the artery, therefore no heart disease.\n",
    "-- Value 1: > 50% diameter narrowing - There is a more than 50% narrowing of a major blood vessel, therefore heart disease is pressent.\n",
    "\n",
    "0 - no heart disease\n",
    "1 - heart disease"
   ]
  },
  {
   "cell_type": "markdown",
   "metadata": {},
   "source": [
    "# Data cleaning"
   ]
  },
  {
   "cell_type": "code",
   "execution_count": 2,
   "metadata": {},
   "outputs": [
    {
     "ename": "NameError",
     "evalue": "name 'data' is not defined",
     "output_type": "error",
     "traceback": [
      "\u001b[0;31m---------------------------------------------------------------------------\u001b[0m",
      "\u001b[0;31mNameError\u001b[0m                                 Traceback (most recent call last)",
      "\u001b[0;32m<ipython-input-2-957bd62136de>\u001b[0m in \u001b[0;36m<module>\u001b[0;34m\u001b[0m\n\u001b[1;32m      1\u001b[0m \u001b[0;31m#Check for values that are not numbers.\u001b[0m\u001b[0;34m\u001b[0m\u001b[0;34m\u001b[0m\u001b[0;34m\u001b[0m\u001b[0m\n\u001b[0;32m----> 2\u001b[0;31m \u001b[0mdata\u001b[0m\u001b[0;34m.\u001b[0m\u001b[0misna\u001b[0m\u001b[0;34m(\u001b[0m\u001b[0;34m)\u001b[0m\u001b[0;34m.\u001b[0m\u001b[0many\u001b[0m\u001b[0;34m(\u001b[0m\u001b[0;34m)\u001b[0m\u001b[0;34m\u001b[0m\u001b[0;34m\u001b[0m\u001b[0m\n\u001b[0m",
      "\u001b[0;31mNameError\u001b[0m: name 'data' is not defined"
     ]
    }
   ],
   "source": [
    "#Check for values that are not numbers.\n",
    "data.isna().any()"
   ]
  },
  {
   "cell_type": "code",
   "execution_count": 3,
   "metadata": {},
   "outputs": [
    {
     "ename": "NameError",
     "evalue": "name 'data' is not defined",
     "output_type": "error",
     "traceback": [
      "\u001b[0;31m---------------------------------------------------------------------------\u001b[0m",
      "\u001b[0;31mNameError\u001b[0m                                 Traceback (most recent call last)",
      "\u001b[0;32m<ipython-input-3-11ca1f8ed938>\u001b[0m in \u001b[0;36m<module>\u001b[0;34m\u001b[0m\n\u001b[1;32m      1\u001b[0m \u001b[0;31m#Check Dataframe for duplicate rows\u001b[0m\u001b[0;34m\u001b[0m\u001b[0;34m\u001b[0m\u001b[0;34m\u001b[0m\u001b[0m\n\u001b[0;32m----> 2\u001b[0;31m \u001b[0mduplicateRowsData\u001b[0m \u001b[0;34m=\u001b[0m \u001b[0mdata\u001b[0m\u001b[0;34m[\u001b[0m\u001b[0mdata\u001b[0m\u001b[0;34m.\u001b[0m\u001b[0mduplicated\u001b[0m\u001b[0;34m(\u001b[0m\u001b[0;34m)\u001b[0m\u001b[0;34m]\u001b[0m\u001b[0;34m\u001b[0m\u001b[0;34m\u001b[0m\u001b[0m\n\u001b[0m\u001b[1;32m      3\u001b[0m \u001b[0mprint\u001b[0m\u001b[0;34m(\u001b[0m\u001b[0mduplicateRowsData\u001b[0m\u001b[0;34m)\u001b[0m\u001b[0;34m\u001b[0m\u001b[0;34m\u001b[0m\u001b[0m\n",
      "\u001b[0;31mNameError\u001b[0m: name 'data' is not defined"
     ]
    }
   ],
   "source": [
    "#Check Dataframe for duplicate rows\n",
    "duplicateRowsData = data[data.duplicated()]\n",
    "print(duplicateRowsData)"
   ]
  },
  {
   "cell_type": "markdown",
   "metadata": {},
   "source": [
    "In the details on the database the authors specify that there are values missing and they replaced them with -9.0.\n",
    "Let's see if the non-values are still in the set."
   ]
  },
  {
   "cell_type": "code",
   "execution_count": null,
   "metadata": {},
   "outputs": [],
   "source": [
    "#Check if there is any value equal to -9.0\n",
    "data.where(data == -9.0).sum()"
   ]
  },
  {
   "cell_type": "markdown",
   "metadata": {},
   "source": [
    "Therefore no non-values present."
   ]
  },
  {
   "cell_type": "code",
   "execution_count": null,
   "metadata": {},
   "outputs": [],
   "source": [
    "# Function that will find the number of unique values and tell us if it's high or low.\n",
    "def find_number_unique_values(df):\n",
    "    #Creates two empty lists for categorical and continuous data\n",
    "    cont_val=[]\n",
    "    cat_val=[]\n",
    "    bool_val =[]\n",
    "    #Adds column to categorical data list if it has less than 5 unique values or adds it to the continuous data list it it has more than 5 unique values.\n",
    "    for i in df.columns:\n",
    "        if df[i].nunique()>6:\n",
    "            cont_val.append(i)\n",
    "        elif 2 < df[i].nunique()<6:\n",
    "            cat_val.append(i)\n",
    "        else:\n",
    "            bool_val.append(i)\n",
    "    return cont_val, cat_val, bool_val\n",
    "    print(f\" categorical values - {cat_val}.\")\n",
    "    print(f\" continuous values - {cont_val}.\")\n",
    "    print(f\" boolean values - {bool_val}.\")  "
   ]
  },
  {
   "cell_type": "code",
   "execution_count": null,
   "metadata": {},
   "outputs": [],
   "source": [
    "find_number_unique_values(data)"
   ]
  },
  {
   "cell_type": "markdown",
   "metadata": {},
   "source": [
    "# Data analysis "
   ]
  },
  {
   "cell_type": "markdown",
   "metadata": {},
   "source": [
    "# Categorical and Boolean data "
   ]
  },
  {
   "cell_type": "markdown",
   "metadata": {},
   "source": [
    "# Target \n",
    "0 - no heart disease\n",
    "1,2,3,4 - heart disease"
   ]
  },
  {
   "cell_type": "code",
   "execution_count": null,
   "metadata": {
    "scrolled": true
   },
   "outputs": [],
   "source": [
    "data['target'].value_counts(normalize=True)"
   ]
  },
  {
   "cell_type": "code",
   "execution_count": null,
   "metadata": {},
   "outputs": [],
   "source": [
    "data.target = data.target.replace({2:1, 3:1, 4:1})"
   ]
  },
  {
   "cell_type": "code",
   "execution_count": null,
   "metadata": {},
   "outputs": [],
   "source": [
    "data['target'].value_counts(normalize=True)"
   ]
  },
  {
   "cell_type": "code",
   "execution_count": null,
   "metadata": {},
   "outputs": [],
   "source": [
    "# Pie chart, where the slices will be ordered and plotted counter-clockwise:\n",
    "labels = 'No Heart Disease', 'Heart Disease'\n",
    "sizes = [54, 46]\n",
    "explode = (0, 0.1)  # only \"explode\" the 2nd slice (i.e. 'Hogs')\n",
    "\n",
    "fig1, ax1 = plt.subplots()\n",
    "ax1.pie(sizes, explode=explode, labels=labels, autopct='%1.1f%%',\n",
    "        shadow=True, startangle=90)\n",
    "ax1.axis('equal')  # Equal aspect ratio ensures that pie is drawn as a circle.\n",
    "\n",
    "plt.show()"
   ]
  },
  {
   "cell_type": "markdown",
   "metadata": {},
   "source": [
    "# Exercised Induced Angina\n",
    "\n",
    "1 - present\n",
    "\n",
    "0 - absent"
   ]
  },
  {
   "cell_type": "code",
   "execution_count": null,
   "metadata": {},
   "outputs": [],
   "source": [
    "data.exang.value_counts()"
   ]
  },
  {
   "cell_type": "code",
   "execution_count": null,
   "metadata": {},
   "outputs": [],
   "source": [
    "ct = pd.crosstab(data.exang, data.target)\n",
    "ct.plot.bar()\n",
    "plt.xlabel('Exercised Induced Angina ', fontsize = 15)\n",
    "plt.ylabel('Number of pacients', fontsize = 15)\n",
    "plt.title('Exercised Induced Angina VS Heart Disease', fontsize = 15)\n",
    "fbs_ticks = ['Chest Pain Absent', 'Chest Pain Present']\n",
    "plt.xticks([0, 1], fbs_ticks, rotation = 10, fontsize = 12)\n",
    "L = plt.legend()\n",
    "L.get_texts()[1].set_text('Heart Disease')\n",
    "L.get_texts()[0].set_text('No Heart Disease')"
   ]
  },
  {
   "cell_type": "markdown",
   "metadata": {},
   "source": [
    "Ecercised induced angina is due to narrowing of blood vessels which is one of the definitions of heart disease."
   ]
  },
  {
   "cell_type": "markdown",
   "metadata": {},
   "source": [
    "# SEX\n",
    "- 1 for male\n",
    "- 0 for female"
   ]
  },
  {
   "cell_type": "code",
   "execution_count": null,
   "metadata": {},
   "outputs": [],
   "source": [
    "data['sex'].value_counts()"
   ]
  },
  {
   "cell_type": "code",
   "execution_count": null,
   "metadata": {},
   "outputs": [],
   "source": [
    "data['sex'].describe()"
   ]
  },
  {
   "cell_type": "markdown",
   "metadata": {},
   "source": []
  },
  {
   "cell_type": "code",
   "execution_count": null,
   "metadata": {},
   "outputs": [],
   "source": [
    "ct = pd.crosstab(data.sex, data.target)\n",
    "ct.plot.bar()\n",
    "plt.xlabel('Sex', fontsize = 15)\n",
    "plt.ylabel('Number of pacients', fontsize = 15)\n",
    "plt.title('Gender VS Heart Disease', fontsize = 15)\n",
    "gender_ticks = ['Female', 'Male']\n",
    "plt.xticks([0, 1], gender_ticks, rotation = 10, fontsize = 12)\n",
    "L = plt.legend()\n",
    "L.get_texts()[1].set_text('Heart Disease')\n",
    "L.get_texts()[0].set_text('No Heart Disease')"
   ]
  },
  {
   "cell_type": "markdown",
   "metadata": {},
   "source": [
    "# Chest Pain\n",
    "\n",
    "-- Value 1: typical angina (Typical (classic) angina chest pain consists of\n",
    "(a) Substernal chest pain or discomfort that is \n",
    "(b) Provoked by exertion or emotional stress and \n",
    "(c) relieved by rest or nitroglycerine (or both).\n",
    "\n",
    "-- Value 2: atypical angina (Atypical (probable) angina chest pain applies when 2 out of 3 criteria of classic angina are present.)\n",
    "\n",
    "-- Value 3: non-anginal pain\n",
    "\n",
    "-- Value 4: asymptomatic\n",
    "\n"
   ]
  },
  {
   "cell_type": "code",
   "execution_count": null,
   "metadata": {},
   "outputs": [],
   "source": [
    "data['cp'].value_counts()"
   ]
  },
  {
   "cell_type": "code",
   "execution_count": null,
   "metadata": {
    "scrolled": true
   },
   "outputs": [],
   "source": [
    "sns.barplot(x=data.cp.value_counts().index, y=data.cp.value_counts().values)\n",
    "plt.xlabel('Chest pain type')\n",
    "plt.ylabel('Chest pain type counter')\n",
    "plt.title('Chest Pain Analysis System')\n",
    "plt.show()"
   ]
  },
  {
   "cell_type": "code",
   "execution_count": null,
   "metadata": {},
   "outputs": [],
   "source": [
    "# Draw a categorical scatterplot to show each observation\n",
    "sns.swarmplot(x=\"sex\", y=\"cp\",hue='target',\n",
    "              palette=[\"c\", \"r\", \"y\"], data=data)\n",
    "plt.show()"
   ]
  },
  {
   "cell_type": "code",
   "execution_count": null,
   "metadata": {},
   "outputs": [],
   "source": [
    "ct = pd.crosstab(data.cp, data.target)\n",
    "ct.plot.bar()\n",
    "# Create an array with the colors you want to use\n",
    "colors = [  \"#099441\",\"#B3000C\" ]\n",
    "# Set your custom color palette\n",
    "sns.set_palette(sns.color_palette(colors))\n",
    "plt.xlabel('Chest Pain Type', fontsize = 15)\n",
    "plt.ylabel('Number of pacients', fontsize = 15)\n",
    "plt.title('Chest Pain VS Heart Disease', fontsize = 15)\n",
    "gender_ticks = ['Typical Angina', 'Atypical Angina', 'Non-Anginal Pain', 'A-symptomatic ']\n",
    "plt.xticks([0, 1, 2, 3], gender_ticks, rotation = 10, fontsize = 12)\n",
    "L = plt.legend()\n",
    "L.get_texts()[1].set_text('Heart Disease')\n",
    "L.get_texts()[0].set_text('No Heart Disease')"
   ]
  },
  {
   "cell_type": "markdown",
   "metadata": {},
   "source": [
    "If we examine the plot, we can conclude that the absence of chest pain is not a good indicator of the absence of heart disease. "
   ]
  },
  {
   "cell_type": "markdown",
   "metadata": {},
   "source": [
    "# Fasting Blood Sugar\n",
    "Fasting Blood Sugar > 120 mg/dl - 1 \n",
    "\n",
    "Fasting Blood Sugar < 120 mg/dl - 0\n",
    "\n",
    "\"Study shows a fasting BG of above 100 increases risk of heart disease by 300%. >People with a fasting blood sugar level of 100-125 mg/dl had an adjusted nearly 300% increase higher risk of having coronary heart disease than people with a level below 79 mg/dl.\"\n",
    "\n",
    "See more info on this matter:\n",
    "<a href=\"http://www.diabetesincontrol.com/fasting-blood-sugar-above-90-puts-you-at-risk-of-heart-disease/\">Here</a>"
   ]
  },
  {
   "cell_type": "code",
   "execution_count": null,
   "metadata": {},
   "outputs": [],
   "source": [
    "data['fbs'].value_counts()"
   ]
  },
  {
   "cell_type": "code",
   "execution_count": null,
   "metadata": {},
   "outputs": [],
   "source": [
    "sns.barplot(x=data.fbs.value_counts().index, y=data.fbs.value_counts().values)\n",
    "# Create an array with the colors you want to use\n",
    "colors = [  \"#099441\",\"#B30040\" ]\n",
    "# Set your custom color palette\n",
    "sns.set_palette(sns.color_palette(colors))\n",
    "plt.xlabel('Fasting Blood Sugar ')\n",
    "plt.ylabel('Fasting Blood Sugar counter')\n",
    "plt.title('Fasting Blood Sugar Analysis System')\n",
    "plt.show()"
   ]
  },
  {
   "cell_type": "code",
   "execution_count": null,
   "metadata": {},
   "outputs": [],
   "source": [
    "ct = pd.crosstab(data.fbs, data.target)\n",
    "ct.plot.bar()\n",
    "# Create an array with the colors you want to use\n",
    "colors = [  \"#099441\",\"#B3000C\" ]\n",
    "# Set your custom color palette\n",
    "sns.set_palette(sns.color_palette(colors))\n",
    "plt.xlabel('Fasting Blood Sugar ', fontsize = 15)\n",
    "plt.ylabel('Number of people', fontsize = 15)\n",
    "plt.title('Fasting Blood Sugar VS Heart Disease', fontsize = 15)\n",
    "fbs_ticks = ['Fasting Blood Sugar < 120 mg/dl', 'Fasting Blood Sugar > 120 mg/dl ']\n",
    "plt.xticks([0, 1], fbs_ticks, rotation = 10, fontsize = 12)\n",
    "L = plt.legend()\n",
    "L.get_texts()[1].set_text('Heart Disease')\n",
    "L.get_texts()[0].set_text('No Heart Disease')"
   ]
  },
  {
   "cell_type": "markdown",
   "metadata": {},
   "source": [
    "# RESTECG\n",
    "Resting Electrocardiographic Results \n",
    "\n",
    " Value 0: normal \n",
    "\n",
    " Value 1: having ST-T wave abnormality (T wave inversions and/or ST elevation or depression of > 0.05 mV) \n",
    "\n",
    " Value 2: showing probable or definite left ventricular hypertrophy by Estes' criteria"
   ]
  },
  {
   "cell_type": "code",
   "execution_count": null,
   "metadata": {},
   "outputs": [],
   "source": [
    "data.restecg.value_counts()"
   ]
  },
  {
   "cell_type": "code",
   "execution_count": null,
   "metadata": {},
   "outputs": [],
   "source": [
    "ct = pd.crosstab(data.restecg, data.target)\n",
    "ct.plot.bar()\n",
    "# Create an array with the colors you want to use\n",
    "colors = [  \"#099441\",\"#B3000C\" ]\n",
    "# Set your custom color palette\n",
    "sns.set_palette(sns.color_palette(colors))\n",
    "plt.xlabel('Resting Electrocardiographic Results ', fontsize = 15)\n",
    "plt.ylabel('Number of people', fontsize = 15)\n",
    "plt.title('Resting Electrocardiographic Results VS Heart Disease', fontsize = 15)\n",
    "fbs_ticks = ['Normal', 'ST-T wave abnormality ','Left ventricular hypertrophy']\n",
    "plt.xticks([0, 1, 2], fbs_ticks, rotation = 10, fontsize = 12)\n",
    "L = plt.legend()\n",
    "L.get_texts()[1].set_text('Heart Disease')\n",
    "L.get_texts()[0].set_text('No Heart Disease')"
   ]
  },
  {
   "cell_type": "markdown",
   "metadata": {},
   "source": [
    "# SLOPE\n",
    "\n",
    "slope: the slope of the peak exercise ST segment\n",
    "\n",
    "-- Value 1: upsloping\n",
    "-- Value 2: flat\n",
    "-- Value 3: downsloping\n",
    "\n",
    "The J point (the point of inflection at the junction of the S wave and ST segment) becomes depressed during exercise, with maximum depression at peak exercise. The normal ST segment during exercise therefore slopes sharply upwards.\n",
    "The standard criterion for an abnormal ST segment response is horizontal (planar) or downsloping depression of >1 mm. If 0.5 mm of depression is taken as the standard, the sensitivity of the test increases and the specificity decreases (vice versa if 2 mm of depression is selected as the standard).\n",
    "A test that indicates a high probability of coronary artery disease is one in which there is substantial ST depression at low work rate associated with typical angina-like pain and a drop in blood pressure. Deeper and more widespread ST depression generally indicates more severe or extensive disease.\n",
    "\n",
    "False positive results are common in women, reflecting the lower incidence of coronary artery disease in this group."
   ]
  },
  {
   "attachments": {
    "image.png": {
     "image/png": "[encoded data removed]"
    }
   },
   "cell_type": "markdown",
   "metadata": {},
   "source": [
    "I found the following info here :https://www.kaggle.com/ronitf/heart-disease-uci/discussion/151898\n",
    "These one-liners didn't seem like enough to make a useful and interpretable model. Without a better understanding of the data, it would be difficult to act on the information or to trust the results.\n",
    "\n",
    "The restecg, slope and oldpeak fields all relate to findings from an electrocardiogram. The graphic shows the components of a normal ECG which measures voltage over time in the heart muscle. restecg is used to look for 2 specific abnormalities in the resting ECG, while slope and oldpeak are both based on comparisons of the resting ECG and the ECG while excercising.\n",
    "\n",
    "![image.png](attachment:image.png)\n",
    "\n",
    "In the graphic, the ST segment is labeled and shown to be flat. The slope relates whether there is an abnormality in the shape of the ST segment (still hard to say what the difference between 1 = unsloping and 2 = flat could be). Old peak is a measure of the depression occurring in the ST segment (mm). A value greater than 0.5mm indicates a weakened heart and an increased risk of cardiac events such as heart attack. ST depression is also associated with angina, another variable in the data."
   ]
  },
  {
   "cell_type": "code",
   "execution_count": null,
   "metadata": {},
   "outputs": [],
   "source": [
    "data.slope.value_counts()"
   ]
  },
  {
   "cell_type": "code",
   "execution_count": null,
   "metadata": {},
   "outputs": [],
   "source": [
    "ct = pd.crosstab(data.slope, data.target)\n",
    "ct.plot.bar()\n",
    "# Create an array with the colors you want to use\n",
    "colors = [  \"#099441\",\"#B3000C\" ]\n",
    "# Set your custom color palette\n",
    "sns.set_palette(sns.color_palette(colors))\n",
    "plt.xlabel('Exercise tolerance testing ', fontsize = 15)\n",
    "plt.ylabel('Number of pacients', fontsize = 15)\n",
    "plt.title('Exercise tolerance testing VS Heart Disease', fontsize = 15)\n",
    "fbs_ticks = ['Upsloping', 'Flat ','Downsloping']\n",
    "plt.xticks([0, 1, 2], fbs_ticks, rotation = 10, fontsize = 12)\n",
    "L = plt.legend()\n",
    "L.get_texts()[1].set_text('Heart Disease')\n",
    "L.get_texts()[0].set_text('No Heart Disease')"
   ]
  },
  {
   "cell_type": "markdown",
   "metadata": {},
   "source": [
    "# CA\n",
    "Number of major vessels (0-3) colored by flourosopy"
   ]
  },
  {
   "cell_type": "code",
   "execution_count": null,
   "metadata": {},
   "outputs": [],
   "source": [
    "data.ca.value_counts()"
   ]
  },
  {
   "cell_type": "code",
   "execution_count": null,
   "metadata": {},
   "outputs": [],
   "source": [
    "data[data['ca']=='?']"
   ]
  },
  {
   "cell_type": "code",
   "execution_count": null,
   "metadata": {},
   "outputs": [],
   "source": [
    "#Drop rows with ca = ?.\n",
    "data = data[data['ca']!='?']"
   ]
  },
  {
   "cell_type": "code",
   "execution_count": null,
   "metadata": {},
   "outputs": [],
   "source": [
    "ct = pd.crosstab(data.ca, data.target)\n",
    "ct.plot.bar()\n",
    "# Create an array with the colors you want to use\n",
    "colors = [  \"#099441\",\"#B3000C\" ]\n",
    "# Set your custom color palette\n",
    "sns.set_palette(sns.color_palette(colors))\n",
    "plt.xlabel('Number of Coronary Arteries ', fontsize = 15)\n",
    "plt.ylabel('Number of pacients', fontsize = 15)\n",
    "plt.title('Number of Coronary Arteries VS Heart Disease', fontsize = 15)\n",
    "fbs_ticks = ['0', '1 ','2','3']\n",
    "plt.xticks([0, 1, 2,3], fbs_ticks, rotation = 10, fontsize = 12)\n",
    "L = plt.legend()\n",
    "L.get_texts()[1].set_text('Heart Disease')\n",
    "L.get_texts()[0].set_text('No Heart Disease')"
   ]
  },
  {
   "cell_type": "markdown",
   "metadata": {},
   "source": [
    "# THAL\n",
    "\n",
    "3 = normal; \n",
    "\n",
    "6 = fixed defect; \n",
    "\n",
    "7 = reversable defect\n",
    "\n",
    "Thalassemia is an inherited blood disorder that causes your body to have less hemoglobin than normal. Hemoglobin enables red blood cells to carry oxygen. Thalassemia can cause anemia, leaving you fatigued. If you have mild thalassemia, you might not need treatment.\n"
   ]
  },
  {
   "cell_type": "code",
   "execution_count": null,
   "metadata": {},
   "outputs": [],
   "source": [
    "data.thal.value_counts()"
   ]
  },
  {
   "cell_type": "code",
   "execution_count": null,
   "metadata": {},
   "outputs": [],
   "source": [
    "data = data[data['thal']!= '?']"
   ]
  },
  {
   "cell_type": "code",
   "execution_count": null,
   "metadata": {},
   "outputs": [],
   "source": [
    "data.thal.value_counts()"
   ]
  },
  {
   "cell_type": "code",
   "execution_count": null,
   "metadata": {
    "scrolled": false
   },
   "outputs": [],
   "source": [
    "ct = pd.crosstab(data.thal, data.target)\n",
    "ct.plot.bar()\n",
    "# Create an array with the colors you want to use\n",
    "colors = [  \"#099441\",\"#B3000C\" ]\n",
    "# Set your custom color palette\n",
    "sns.set_palette(sns.color_palette(colors))\n",
    "plt.xlabel('Thalassemia ', fontsize = 15)\n",
    "plt.ylabel('Number of pacients', fontsize = 15)\n",
    "plt.title('Thalassemia VS Heart Disease', fontsize = 15)\n",
    "fbs_ticks = ['3 - Normal', '6 - Fixed Defect','7 - Reversable Defect']\n",
    "plt.xticks([0, 1, 2], fbs_ticks, rotation = 10, fontsize = 12)\n",
    "L = plt.legend()\n",
    "L.get_texts()[1].set_text('Heart Disease')\n",
    "L.get_texts()[0].set_text('No Heart Disease')"
   ]
  },
  {
   "cell_type": "code",
   "execution_count": null,
   "metadata": {},
   "outputs": [],
   "source": [
    "data.cp = pd.Categorical(data.cp)\n",
    "data.slope = pd.Categorical(data.slope)\n",
    "data.restecg = pd.Categorical(data.restecg)\n",
    "data.ca=pd.Categorical(data.ca)\n",
    "data.thal=pd.Categorical(data.thal)"
   ]
  },
  {
   "cell_type": "code",
   "execution_count": null,
   "metadata": {},
   "outputs": [],
   "source": [
    "#Separate categorical columns from the others.\n",
    "categ_cols=['cp', 'slope', 'restecg', 'ca', 'thal']"
   ]
  },
  {
   "cell_type": "code",
   "execution_count": null,
   "metadata": {},
   "outputs": [],
   "source": [
    "categ_dummy_data= pd.get_dummies(data[categ_cols], drop_first=True)\n",
    "categ_dummy_data.head()"
   ]
  },
  {
   "cell_type": "markdown",
   "metadata": {},
   "source": [
    "# CONTINUOUS VARIABLES"
   ]
  },
  {
   "cell_type": "markdown",
   "metadata": {},
   "source": [
    "# Remove outliers.\n",
    "Remove outliers in all the features using a function I found here: https://github.com/nadinezab/kc-house-prices-prediction/blob/master/kc-house-prices.ipynb"
   ]
  },
  {
   "cell_type": "code",
   "execution_count": null,
   "metadata": {},
   "outputs": [],
   "source": [
    "# Define function to remove outliers\n",
    "def remove_outliers(df):\n",
    "    '''removes entries with z-score above specific columns'''\n",
    "    variables = ['age', 'trestbps', 'chol', 'thalach', 'oldpeak']\n",
    "    \n",
    "    for variable in variables:\n",
    "        df = df[np.abs(df[variable]-df[variable].mean()) <= (3*df[variable].std())]\n",
    "        \n",
    "    return df"
   ]
  },
  {
   "cell_type": "code",
   "execution_count": null,
   "metadata": {},
   "outputs": [],
   "source": [
    "data1 = remove_outliers(data)\n",
    "len(data1)"
   ]
  },
  {
   "cell_type": "code",
   "execution_count": null,
   "metadata": {},
   "outputs": [],
   "source": [
    "loss=100-(len(data1)*100)/len(data)\n",
    "print(f\"We lost {round(loss,2)}% of our data.\")"
   ]
  },
  {
   "cell_type": "markdown",
   "metadata": {},
   "source": [
    "# Age"
   ]
  },
  {
   "cell_type": "code",
   "execution_count": null,
   "metadata": {},
   "outputs": [],
   "source": [
    "data1.age.describe()"
   ]
  },
  {
   "cell_type": "code",
   "execution_count": null,
   "metadata": {},
   "outputs": [],
   "source": [
    "# Create an array with the colors you want to use\n",
    "colors = [ \"#099441\", \"#B3000C\", ]\n",
    "# Set your custom color palette\n",
    "sns.set_palette(sns.color_palette(colors))\n",
    "sns.boxplot(x='target',y='age',data=data1)"
   ]
  },
  {
   "cell_type": "markdown",
   "metadata": {},
   "source": [
    "It seems that the incidence of heart disease increases with age. "
   ]
  },
  {
   "cell_type": "code",
   "execution_count": null,
   "metadata": {},
   "outputs": [],
   "source": [
    "# Scatter plot of latitude vs longitude with hue price.\n",
    "sns.swarmplot(x = data1['sex'], y = data1['age'], hue = data1['target'], data = data1)\n",
    "plt.title('Gender & Age VS Heart Disease')\n",
    "plt.xlabel('Gender')\n",
    "plt.ylabel('Age')\n",
    "# Create an array with the colors you want to use\n",
    "colors = [ \"#B3000C\", \"#099441\"]\n",
    "# Set your custom color palette\n",
    "sns.set_palette(sns.color_palette(colors))\n",
    "plt.show()"
   ]
  },
  {
   "cell_type": "markdown",
   "metadata": {},
   "source": [
    "It seems that gender makes a diffrence when the pacient is young. In older pacients women also have a high incidence of heart disease."
   ]
  },
  {
   "cell_type": "markdown",
   "metadata": {},
   "source": [
    "This hypothesis is supported by scientific research:\n",
    "\n",
    "\n",
    "\"Recent data from the National Health and Nutrition Examination Surveys (NHANES) have shown that over the past two decades the prevalence of myocardial infarctions has increased in midlife (35 to 54 years) women, while declining in similarly aged men. In a report from the European Heart Survey on stable angina pectoris it was found that women are less likely to be referred for functional testing for ischaemia and that a lower rate of diagnostic angiograms and interventional procedures are performed compared with men.\"\n",
    "\n",
    "\n",
    "See more info on this matter:\n",
    "<a href=\"https://www.ncbi.nlm.nih.gov/pmc/articles/PMC3018605/\">More info</a>"
   ]
  },
  {
   "cell_type": "markdown",
   "metadata": {},
   "source": [
    "# TRESTBPS"
   ]
  },
  {
   "cell_type": "markdown",
   "metadata": {},
   "source": [
    "Resting blood pressure (in mm Hg on admission to the hospital)"
   ]
  },
  {
   "cell_type": "code",
   "execution_count": null,
   "metadata": {},
   "outputs": [],
   "source": [
    "data1.trestbps.describe()"
   ]
  },
  {
   "cell_type": "code",
   "execution_count": null,
   "metadata": {},
   "outputs": [],
   "source": [
    "colors = [ \"#099441\", \"#B3000C\"]\n",
    "# Set your custom color palette\n",
    "sns.set_palette(sns.color_palette(colors))\n",
    "sns.boxplot(x='target',y='trestbps',data=data1)\n"
   ]
  },
  {
   "cell_type": "code",
   "execution_count": null,
   "metadata": {},
   "outputs": [],
   "source": [
    "# Scatter plot of latitude vs longitude with hue price.\n",
    "sns.scatterplot(y = data1['trestbps'], x = data1['age'], hue = data1['target'], data = data1)\n",
    "plt.title('Resting Blood Pressure & Age VS Heart Disease')\n",
    "plt.xlabel('Age')\n",
    "plt.ylabel('Resting Blood Pressure')\n",
    "# Create an array with the colors you want to use\n",
    "colors = [ \"#B3000C\", \"#099441\"]\n",
    "# Set your custom color palette\n",
    "sns.set_palette(sns.color_palette(colors))\n",
    "plt.show()"
   ]
  },
  {
   "cell_type": "markdown",
   "metadata": {},
   "source": [
    "# CHOL\n",
    "When there is too much cholesterol in your blood, it builds up in the walls of your arteries, causing a process called atherosclerosis, a form of heart disease. The arteries become narrowed and blood flow to the heart muscle is slowed down or blocked."
   ]
  },
  {
   "cell_type": "code",
   "execution_count": null,
   "metadata": {},
   "outputs": [],
   "source": [
    "data1.chol.describe()"
   ]
  },
  {
   "cell_type": "code",
   "execution_count": null,
   "metadata": {},
   "outputs": [],
   "source": [
    "colors = [ \"#099441\", \"#B3000C\"]\n",
    "# Set your custom color palette\n",
    "sns.set_palette(sns.color_palette(colors))\n",
    "sns.boxplot(x='target',y='chol',data=data1)\n"
   ]
  },
  {
   "cell_type": "markdown",
   "metadata": {},
   "source": [
    "It seems that people with heart disease tend to have higher cholesterol levels."
   ]
  },
  {
   "cell_type": "code",
   "execution_count": null,
   "metadata": {},
   "outputs": [],
   "source": [
    "# Scatter plot of latitude vs longitude with hue price.\n",
    "sns.scatterplot(y = data1['chol'], x = data1['age'], hue = data1['target'], data = data1)\n",
    "plt.title('Cholesterol Level & Age VS Heart Disease')\n",
    "plt.xlabel('Age')\n",
    "plt.ylabel('Cholesterol')\n",
    "# Create an array with the colors you want to use\n",
    "colors = [ \"#B3000C\", \"#099441\"]\n",
    "# Set your custom color palette\n",
    "sns.set_palette(sns.color_palette(colors))\n",
    "plt.show()"
   ]
  },
  {
   "cell_type": "code",
   "execution_count": null,
   "metadata": {},
   "outputs": [],
   "source": [
    "sns.regplot(x = data1['age'], y = data1['chol'], data = data1) \n",
    "plt.title('Age VS Cholesterol Level')\n",
    "#plt.xlabel(Age)\n",
    "#plt.ylabel(Cholesterol)\n",
    "plt.show()"
   ]
  },
  {
   "cell_type": "markdown",
   "metadata": {},
   "source": [
    "Cholesterol levels increase with age so do heart disease."
   ]
  },
  {
   "attachments": {
    "max%20heart%20rate.png": {
     "image/png": "[encoded data removed]"
    }
   },
   "cell_type": "markdown",
   "metadata": {},
   "source": [
    "# THALACH\n",
    "\n",
    "Maximum heart rate achieved changes with age.\n",
    "\n",
    "![max%20heart%20rate.png](attachment:max%20heart%20rate.png)"
   ]
  },
  {
   "cell_type": "code",
   "execution_count": null,
   "metadata": {},
   "outputs": [],
   "source": [
    "data1.thalach.describe()"
   ]
  },
  {
   "cell_type": "code",
   "execution_count": null,
   "metadata": {},
   "outputs": [],
   "source": [
    "colors = [ \"#099441\", \"#B3000C\"]\n",
    "# Set your custom color palette\n",
    "sns.set_palette(sns.color_palette(colors))\n",
    "sns.boxplot(x='target',y='thalach',data=data1)\n"
   ]
  },
  {
   "cell_type": "code",
   "execution_count": null,
   "metadata": {},
   "outputs": [],
   "source": [
    "sns.regplot(x = data1['age'], y = data1['thalach'], data = data1) \n",
    "plt.title('Age VS Max Heart Rate')\n",
    "#plt.xlabel(Age)\n",
    "#plt.ylabel(Cholesterol)\n",
    "plt.show()"
   ]
  },
  {
   "cell_type": "markdown",
   "metadata": {},
   "source": [
    "Maximum Heart Reate decreases with age."
   ]
  },
  {
   "cell_type": "markdown",
   "metadata": {},
   "source": [
    "# OLDPEAK\n",
    "\n",
    "ST depression induced by exercise relative to rest"
   ]
  },
  {
   "cell_type": "code",
   "execution_count": null,
   "metadata": {},
   "outputs": [],
   "source": [
    "data1.oldpeak.describe()"
   ]
  },
  {
   "cell_type": "code",
   "execution_count": null,
   "metadata": {},
   "outputs": [],
   "source": [
    "data1.oldpeak.value_counts()"
   ]
  },
  {
   "cell_type": "code",
   "execution_count": null,
   "metadata": {},
   "outputs": [],
   "source": [
    "colors = [ \"#099441\", \"#B3000C\"]\n",
    "# Set your custom color palette\n",
    "sns.set_palette(sns.color_palette(colors))\n",
    "sns.boxplot(x='target',y='oldpeak',data=data1)\n"
   ]
  },
  {
   "cell_type": "code",
   "execution_count": null,
   "metadata": {
    "scrolled": true
   },
   "outputs": [],
   "source": [
    "sns.regplot(x = data1['age'], y = data1['oldpeak'], data = data1) \n",
    "plt.title('Age VS ST Depression induced')\n",
    "#plt.xlabel(Age)\n",
    "#plt.ylabel(Cholesterol)\n",
    "plt.show()"
   ]
  },
  {
   "cell_type": "markdown",
   "metadata": {},
   "source": [
    "Let's see how normal is our continuous data."
   ]
  },
  {
   "cell_type": "code",
   "execution_count": null,
   "metadata": {},
   "outputs": [],
   "source": [
    "continuous_data=data[['age', 'chol', 'trestbps', 'thalach', 'oldpeak']]"
   ]
  },
  {
   "cell_type": "code",
   "execution_count": null,
   "metadata": {},
   "outputs": [],
   "source": [
    "#Visualize continuous data\n",
    "continuous_data.hist(figsize=(12,10));"
   ]
  },
  {
   "cell_type": "code",
   "execution_count": null,
   "metadata": {},
   "outputs": [],
   "source": [
    "continuous_data = continuous_data.apply(lambda x : (x - x.min()) /(x.max() - x.min()), axis=0)"
   ]
  },
  {
   "cell_type": "code",
   "execution_count": null,
   "metadata": {},
   "outputs": [],
   "source": [
    "continuous_data.hist(figsize=(12,10));"
   ]
  },
  {
   "cell_type": "code",
   "execution_count": null,
   "metadata": {},
   "outputs": [],
   "source": [
    "#separate boolean data from initial dataset\n",
    "boolean_data=data[['sex','exang', 'fbs']]"
   ]
  },
  {
   "cell_type": "code",
   "execution_count": null,
   "metadata": {},
   "outputs": [],
   "source": [
    "#Check for correlations\n",
    "all_data = pd.concat([continuous_data, categ_dummy_data, boolean_data, data['target']], axis=1)\n",
    "all_data.corr()"
   ]
  },
  {
   "cell_type": "code",
   "execution_count": null,
   "metadata": {},
   "outputs": [],
   "source": [
    "df_corr=all_data.corr().abs().stack().reset_index().sort_values(0, ascending=False)\n",
    "\n",
    "# zip the variable name columns (Which were only named level_0 and level_1 by default) in a new column named \"pairs\"\n",
    "df_corr['pairs'] = list(zip(df_corr.level_0, df_corr.level_1))\n",
    "\n",
    "# set index to pairs\n",
    "df_corr.set_index(['pairs'], inplace = True)\n",
    "\n",
    "#drop level columns\n",
    "df_corr.drop(columns=['level_1', 'level_0'], inplace = True)\n",
    "\n",
    "# rename correlation column as cc rather than 0\n",
    "df_corr.columns = ['cc']\n",
    "\n",
    "# drop duplicates. This could be dangerous if you have variables perfectly correlated with variables other than themselves.\n",
    "# for the sake of exercise, kept it in.\n",
    "df_corr.drop_duplicates(inplace=True)"
   ]
  },
  {
   "cell_type": "code",
   "execution_count": null,
   "metadata": {},
   "outputs": [],
   "source": [
    "# Since a correlation of 1 happens only when data is identical we onlky need to separate correlation smaller than 1 and larger than 0.75.\n",
    "df_corr[(df_corr.cc>.75) & (df_corr.cc <1)]"
   ]
  },
  {
   "cell_type": "code",
   "execution_count": null,
   "metadata": {
    "scrolled": true
   },
   "outputs": [],
   "source": [
    "corr = all_data.corr()\n",
    "\n",
    "# Plot heatmap\n",
    "plt.figure(figsize = (15,10))\n",
    "sns.heatmap(corr, center = 0, annot = True, cmap = 'coolwarm')\n",
    "plt.title('Correlation Heatmap')\n",
    "plt.show()"
   ]
  },
  {
   "cell_type": "markdown",
   "metadata": {},
   "source": [
    "No strong correlations were found."
   ]
  },
  {
   "cell_type": "code",
   "execution_count": null,
   "metadata": {},
   "outputs": [],
   "source": [
    "#unite continuous, categorical and boolean data after creating dummies and normalizing into a new datafreame that will beour X.\n",
    "#unify our results into one dataset.\n",
    "X = pd.concat([continuous_data, categ_dummy_data, boolean_data], axis=1)\n",
    "X.reset_index()\n",
    "X.columns"
   ]
  },
  {
   "cell_type": "code",
   "execution_count": null,
   "metadata": {},
   "outputs": [],
   "source": [
    "y = data['target']\n",
    "y"
   ]
  },
  {
   "cell_type": "code",
   "execution_count": null,
   "metadata": {},
   "outputs": [],
   "source": [
    "# Define Random State\n",
    "seed = 20\n",
    "\n",
    "# Split the data into training and test sets\n",
    "X_train, X_test, y_train, y_test = train_test_split(X, y, random_state=seed)\n",
    "\n"
   ]
  },
  {
   "cell_type": "code",
   "execution_count": null,
   "metadata": {},
   "outputs": [],
   "source": [
    "# Instantiate the model\n",
    "logreg = LogisticRegression(fit_intercept=False, C=1e12, solver='liblinear')\n",
    "\n",
    "# Fit the model\n",
    "logreg.fit(X_train, y_train)"
   ]
  },
  {
   "cell_type": "code",
   "execution_count": null,
   "metadata": {},
   "outputs": [],
   "source": [
    "# Generate predictions\n",
    "y_hat_train = logreg.predict(X_train)\n",
    "y_hat_test = logreg.predict(X_test)"
   ]
  },
  {
   "cell_type": "code",
   "execution_count": null,
   "metadata": {},
   "outputs": [],
   "source": [
    "# We could subtract the two columns. If values or equal, difference will be zero. Then count number of zeros.\n",
    "residuals = np.abs(y_test - y_hat_test)\n",
    "print(pd.Series(residuals).value_counts())\n",
    "print('------------------------------------')\n",
    "print(pd.Series(residuals).value_counts(normalize=True))\n"
   ]
  },
  {
   "cell_type": "code",
   "execution_count": null,
   "metadata": {},
   "outputs": [],
   "source": [
    "from sklearn.metrics import confusion_matrix\n",
    "cf = confusion_matrix(y_test,y_hat_test  )\n",
    "cf"
   ]
  },
  {
   "cell_type": "code",
   "execution_count": null,
   "metadata": {},
   "outputs": [],
   "source": [
    "def conf_matrix(y_true, y_pred):\n",
    "    cm = {'TP': 0, 'TN': 0, 'FP': 0, 'FN': 0}\n",
    "    \n",
    "    for ind, label in enumerate(y_true):\n",
    "        pred = y_pred[ind]\n",
    "        if label == 1:\n",
    "            # CASE: TP \n",
    "            if label == pred:\n",
    "                cm['TP'] += 1\n",
    "            # CASE: FN\n",
    "            else:\n",
    "                cm['FN'] += 1\n",
    "        else:\n",
    "            # CASE: TN\n",
    "            if label == pred:\n",
    "                cm['TN'] += 1\n",
    "            # CASE: FP\n",
    "            else:\n",
    "                cm['FP'] += 1\n",
    "    return cm\n",
    "\n",
    "conf_matrix(y_test, y_hat_test)"
   ]
  },
  {
   "cell_type": "code",
   "execution_count": null,
   "metadata": {},
   "outputs": [],
   "source": [
    "from sklearn.metrics import precision_score, recall_score, accuracy_score, f1_score\n",
    "\n",
    "print('Training Precision: ', precision_score(y_train, y_hat_train))\n",
    "print('Testing Precision: ', precision_score(y_test, y_hat_test))\n",
    "print('\\n\\n')\n",
    "\n",
    "print('Training Recall: ', recall_score(y_train, y_hat_train))\n",
    "print('Testing Recall: ', recall_score(y_test, y_hat_test))\n",
    "print('\\n\\n')\n",
    "\n",
    "print('Training Accuracy: ', accuracy_score(y_train, y_hat_train))\n",
    "print('Testing Accuracy: ', accuracy_score(y_test, y_hat_test))\n",
    "print('\\n\\n')\n",
    "\n",
    "print('Training F1-Score: ', f1_score(y_train, y_hat_train))\n",
    "print('Testing F1-Score: ', f1_score(y_test, y_hat_test))"
   ]
  },
  {
   "cell_type": "code",
   "execution_count": null,
   "metadata": {},
   "outputs": [],
   "source": []
  },
  {
   "cell_type": "markdown",
   "metadata": {},
   "source": [
    "# Less False Negatives\n",
    "We have 40 true positives, 3 false negatives, 7 false positives and 24 true negatives. Not bad for our first model.\n",
    "We are interested in minimizing false negatives. If we get false positives doctors are going to investigate further and find out that these people are actually healty. On the other hand we don't want to get many false negatives, because a false negative mighte deter a doctor from oinvestigating further and the pacient might get worse without help. \n",
    "95.5% model"
   ]
  },
  {
   "cell_type": "code",
   "execution_count": null,
   "metadata": {},
   "outputs": [],
   "source": [
    "Accuracy Metrics\n",
    "We care the most about having a high true positive rate and a low false negative rate, therefore we will be optimizing our models for recall.\n",
    "\n",
    "It's okay if we have some false positives, as the cost of aquiring customers is much higher than maintaining them. However we wouldn't want this rate to be too high, and thus be wasting efforts on customers who are unlikely to churn. So we will consider accuracy, however precision will not be as important of a metric as recall."
   ]
  },
  {
   "cell_type": "code",
   "execution_count": null,
   "metadata": {},
   "outputs": [],
   "source": [
    "from sklearn.metrics import roc_curve, auc\n",
    "y_score = logreg.fit(X_train, y_train).decision_function(X_test)\n",
    "\n",
    "fpr, tpr, thresholds = roc_curve(y_test, y_score)"
   ]
  },
  {
   "cell_type": "code",
   "execution_count": null,
   "metadata": {},
   "outputs": [],
   "source": [
    "print('AUC: {}'.format(auc(fpr, tpr)))"
   ]
  },
  {
   "cell_type": "code",
   "execution_count": null,
   "metadata": {},
   "outputs": [],
   "source": [
    "# Seaborn's beautiful styling\n",
    "sns.set_style('darkgrid', {'axes.facecolor': '0.9'})\n",
    "\n",
    "print('AUC: {}'.format(auc(fpr, tpr)))\n",
    "plt.figure(figsize=(10, 8))\n",
    "lw = 2\n",
    "plt.plot(fpr, tpr, color='darkorange',\n",
    "         lw=lw, label='ROC curve')\n",
    "plt.plot([0, 1], [0, 1], color='navy', lw=lw, linestyle='--')\n",
    "plt.xlim([0.0, 1.0])\n",
    "plt.ylim([0.0, 1.05])\n",
    "plt.yticks([i/20.0 for i in range(21)])\n",
    "plt.xticks([i/20.0 for i in range(21)])\n",
    "plt.xlabel('False Positive Rate')\n",
    "plt.ylabel('True Positive Rate')\n",
    "plt.title('Receiver operating characteristic (ROC) Curve')\n",
    "plt.legend(loc='lower right')\n",
    "plt.show()"
   ]
  },
  {
   "cell_type": "markdown",
   "metadata": {},
   "source": [
    "Baseline Models¶\n",
    "Create a DataFrame that contains:\n",
    "\n",
    "Our 3 initial classifiers\n",
    "Class balanced training data (X & y)\n",
    "Test data (X & y)\n",
    "Then create a function to fit our models, make predictions, calculate the accuracy scores, and return everything in a DataFrame."
   ]
  },
  {
   "cell_type": "markdown",
   "metadata": {},
   "source": [
    "# Instantiate Classifiers"
   ]
  },
  {
   "cell_type": "code",
   "execution_count": null,
   "metadata": {},
   "outputs": [],
   "source": [
    "# Splitting with X & y in np.array format for XGBoost\n",
    "X_train_xgb, X_test_xgb, y_train_xgb, y_test_xgb = train_test_split(X.values, \n",
    "                                                                    y.values, \n",
    "                                                                    test_size=0.30, \n",
    "                                                                    random_state=seed)"
   ]
  },
  {
   "cell_type": "code",
   "execution_count": null,
   "metadata": {},
   "outputs": [],
   "source": [
    "### Instantiate Classifiers ###\n",
    "\n",
    "# Bagging Tree\n",
    "bag_clf = BaggingClassifier(\n",
    "    base_estimator=DecisionTreeClassifier(),\n",
    "    random_state=seed)\n",
    "\n",
    "# Random Forest\n",
    "rnd_clf = RandomForestClassifier(random_state=seed)\n",
    "\n",
    "# XGBoost \n",
    "xgb_clf = xgb.XGBClassifier(random_state=seed)\n",
    "\n",
    "### Create Dictionary of Classifiers ###\n",
    "\n",
    "clf_dict = {0:\n",
    "    {'clf_name': 'Bagging Tree',\n",
    "     'clfs': bag_clf,\n",
    "     'X_train': X_train,\n",
    "     'X_test': X_test,\n",
    "     'y_train': y_train,\n",
    "     'y_test': y_test},\n",
    "            1:\n",
    "    {'clf_name': 'Random Forest',\n",
    "     'clfs': rnd_clf,\n",
    "     'X_train': X_train,\n",
    "     'X_test': X_test,\n",
    "     'y_train': y_train_,\n",
    "     'y_test': y_test},\n",
    "            2:\n",
    "    {'clf_name': 'XGBoost',\n",
    "     'clfs': xgb_clf,\n",
    "     'X_train': X_train_xgb,\n",
    "     'X_test': X_test_xgb,\n",
    "     'y_train': y_train_xgb,\n",
    "     'y_test': y_test_xgb}}\n",
    "\n",
    "### Convert into DataFrame ##\n",
    "\n",
    "models_df = pd.DataFrame.from_dict(clf_dict, orient='index')"
   ]
  },
  {
   "cell_type": "code",
   "execution_count": null,
   "metadata": {},
   "outputs": [],
   "source": []
  }
 ],
 "metadata": {
  "kernelspec": {
   "display_name": "Python [conda env:learn-env] *",
   "language": "python",
   "name": "conda-env-learn-env-py"
  },
  "language_info": {
   "codemirror_mode": {
    "name": "ipython",
    "version": 3
   },
   "file_extension": ".py",
   "mimetype": "text/x-python",
   "name": "python",
   "nbconvert_exporter": "python",
   "pygments_lexer": "ipython3",
   "version": "3.6.9"
  }
 },
 "nbformat": 4,
 "nbformat_minor": 2
}
